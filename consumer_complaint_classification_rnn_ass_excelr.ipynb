{
  "nbformat": 4,
  "nbformat_minor": 0,
  "metadata": {
    "colab": {
      "name": "consumer_complaint_classification_rnn_ass_excelr.ipynb",
      "provenance": [],
      "collapsed_sections": []
    },
    "kernelspec": {
      "name": "python3",
      "display_name": "Python 3"
    },
    "language_info": {
      "name": "python"
    }
  },
  "cells": [
    {
      "cell_type": "markdown",
      "metadata": {
        "id": "nzmYuY_pFzte"
      },
      "source": [
        "# Loan Dataset :"
      ]
    },
    {
      "cell_type": "code",
      "metadata": {
        "id": "x07mPU1pqLGQ"
      },
      "source": [
        "import pandas as pd"
      ],
      "execution_count": 3,
      "outputs": []
    },
    {
      "cell_type": "code",
      "metadata": {
        "id": "n7KmVQD7qhp6",
        "colab": {
          "base_uri": "https://localhost:8080/"
        },
        "outputId": "b865e6f8-78f9-4468-a866-c4ec7cbbcd8f"
      },
      "source": [
        "data = pd.read_csv(r'/content/drive/MyDrive/consumer_complaints.csv')"
      ],
      "execution_count": 4,
      "outputs": [
        {
          "output_type": "stream",
          "text": [
            "/usr/local/lib/python3.7/dist-packages/IPython/core/interactiveshell.py:2718: DtypeWarning: Columns (5,11) have mixed types.Specify dtype option on import or set low_memory=False.\n",
            "  interactivity=interactivity, compiler=compiler, result=result)\n"
          ],
          "name": "stderr"
        }
      ]
    },
    {
      "cell_type": "code",
      "metadata": {
        "id": "1hiQm3rBqmBn",
        "colab": {
          "base_uri": "https://localhost:8080/",
          "height": 391
        },
        "outputId": "b5b9c3fd-144c-4e72-fb3c-7d5fe92ce19a"
      },
      "source": [
        "data.head()"
      ],
      "execution_count": 5,
      "outputs": [
        {
          "output_type": "execute_result",
          "data": {
            "text/html": [
              "<div>\n",
              "<style scoped>\n",
              "    .dataframe tbody tr th:only-of-type {\n",
              "        vertical-align: middle;\n",
              "    }\n",
              "\n",
              "    .dataframe tbody tr th {\n",
              "        vertical-align: top;\n",
              "    }\n",
              "\n",
              "    .dataframe thead th {\n",
              "        text-align: right;\n",
              "    }\n",
              "</style>\n",
              "<table border=\"1\" class=\"dataframe\">\n",
              "  <thead>\n",
              "    <tr style=\"text-align: right;\">\n",
              "      <th></th>\n",
              "      <th>date_received</th>\n",
              "      <th>product</th>\n",
              "      <th>sub_product</th>\n",
              "      <th>issue</th>\n",
              "      <th>sub_issue</th>\n",
              "      <th>consumer_complaint_narrative</th>\n",
              "      <th>company_public_response</th>\n",
              "      <th>company</th>\n",
              "      <th>state</th>\n",
              "      <th>zipcode</th>\n",
              "      <th>tags</th>\n",
              "      <th>consumer_consent_provided</th>\n",
              "      <th>submitted_via</th>\n",
              "      <th>date_sent_to_company</th>\n",
              "      <th>company_response_to_consumer</th>\n",
              "      <th>timely_response</th>\n",
              "      <th>consumer_disputed?</th>\n",
              "      <th>complaint_id</th>\n",
              "    </tr>\n",
              "  </thead>\n",
              "  <tbody>\n",
              "    <tr>\n",
              "      <th>0</th>\n",
              "      <td>08/30/2013</td>\n",
              "      <td>Mortgage</td>\n",
              "      <td>Other mortgage</td>\n",
              "      <td>Loan modification,collection,foreclosure</td>\n",
              "      <td>NaN</td>\n",
              "      <td>NaN</td>\n",
              "      <td>NaN</td>\n",
              "      <td>U.S. Bancorp</td>\n",
              "      <td>CA</td>\n",
              "      <td>95993</td>\n",
              "      <td>NaN</td>\n",
              "      <td>NaN</td>\n",
              "      <td>Referral</td>\n",
              "      <td>09/03/2013</td>\n",
              "      <td>Closed with explanation</td>\n",
              "      <td>Yes</td>\n",
              "      <td>Yes</td>\n",
              "      <td>511074</td>\n",
              "    </tr>\n",
              "    <tr>\n",
              "      <th>1</th>\n",
              "      <td>08/30/2013</td>\n",
              "      <td>Mortgage</td>\n",
              "      <td>Other mortgage</td>\n",
              "      <td>Loan servicing, payments, escrow account</td>\n",
              "      <td>NaN</td>\n",
              "      <td>NaN</td>\n",
              "      <td>NaN</td>\n",
              "      <td>Wells Fargo &amp; Company</td>\n",
              "      <td>CA</td>\n",
              "      <td>91104</td>\n",
              "      <td>NaN</td>\n",
              "      <td>NaN</td>\n",
              "      <td>Referral</td>\n",
              "      <td>09/03/2013</td>\n",
              "      <td>Closed with explanation</td>\n",
              "      <td>Yes</td>\n",
              "      <td>Yes</td>\n",
              "      <td>511080</td>\n",
              "    </tr>\n",
              "    <tr>\n",
              "      <th>2</th>\n",
              "      <td>08/30/2013</td>\n",
              "      <td>Credit reporting</td>\n",
              "      <td>NaN</td>\n",
              "      <td>Incorrect information on credit report</td>\n",
              "      <td>Account status</td>\n",
              "      <td>NaN</td>\n",
              "      <td>NaN</td>\n",
              "      <td>Wells Fargo &amp; Company</td>\n",
              "      <td>NY</td>\n",
              "      <td>11764</td>\n",
              "      <td>NaN</td>\n",
              "      <td>NaN</td>\n",
              "      <td>Postal mail</td>\n",
              "      <td>09/18/2013</td>\n",
              "      <td>Closed with explanation</td>\n",
              "      <td>Yes</td>\n",
              "      <td>No</td>\n",
              "      <td>510473</td>\n",
              "    </tr>\n",
              "    <tr>\n",
              "      <th>3</th>\n",
              "      <td>08/30/2013</td>\n",
              "      <td>Student loan</td>\n",
              "      <td>Non-federal student loan</td>\n",
              "      <td>Repaying your loan</td>\n",
              "      <td>Repaying your loan</td>\n",
              "      <td>NaN</td>\n",
              "      <td>NaN</td>\n",
              "      <td>Navient Solutions, Inc.</td>\n",
              "      <td>MD</td>\n",
              "      <td>21402</td>\n",
              "      <td>NaN</td>\n",
              "      <td>NaN</td>\n",
              "      <td>Email</td>\n",
              "      <td>08/30/2013</td>\n",
              "      <td>Closed with explanation</td>\n",
              "      <td>Yes</td>\n",
              "      <td>Yes</td>\n",
              "      <td>510326</td>\n",
              "    </tr>\n",
              "    <tr>\n",
              "      <th>4</th>\n",
              "      <td>08/30/2013</td>\n",
              "      <td>Debt collection</td>\n",
              "      <td>Credit card</td>\n",
              "      <td>False statements or representation</td>\n",
              "      <td>Attempted to collect wrong amount</td>\n",
              "      <td>NaN</td>\n",
              "      <td>NaN</td>\n",
              "      <td>Resurgent Capital Services L.P.</td>\n",
              "      <td>GA</td>\n",
              "      <td>30106</td>\n",
              "      <td>NaN</td>\n",
              "      <td>NaN</td>\n",
              "      <td>Web</td>\n",
              "      <td>08/30/2013</td>\n",
              "      <td>Closed with explanation</td>\n",
              "      <td>Yes</td>\n",
              "      <td>Yes</td>\n",
              "      <td>511067</td>\n",
              "    </tr>\n",
              "  </tbody>\n",
              "</table>\n",
              "</div>"
            ],
            "text/plain": [
              "  date_received           product  ... consumer_disputed? complaint_id\n",
              "0    08/30/2013          Mortgage  ...                Yes       511074\n",
              "1    08/30/2013          Mortgage  ...                Yes       511080\n",
              "2    08/30/2013  Credit reporting  ...                 No       510473\n",
              "3    08/30/2013      Student loan  ...                Yes       510326\n",
              "4    08/30/2013   Debt collection  ...                Yes       511067\n",
              "\n",
              "[5 rows x 18 columns]"
            ]
          },
          "metadata": {
            "tags": []
          },
          "execution_count": 5
        }
      ]
    },
    {
      "cell_type": "code",
      "metadata": {
        "id": "v_dmooHlqpH_",
        "colab": {
          "base_uri": "https://localhost:8080/"
        },
        "outputId": "4d5500d4-5792-4460-88ab-74cd9f324902"
      },
      "source": [
        "data.shape"
      ],
      "execution_count": 6,
      "outputs": [
        {
          "output_type": "execute_result",
          "data": {
            "text/plain": [
              "(555957, 18)"
            ]
          },
          "metadata": {
            "tags": []
          },
          "execution_count": 6
        }
      ]
    },
    {
      "cell_type": "code",
      "metadata": {
        "id": "LuLaW95gqrEQ",
        "colab": {
          "base_uri": "https://localhost:8080/"
        },
        "outputId": "4f3220f4-b888-4f66-8c62-9a3d55e393e2"
      },
      "source": [
        "data.info()"
      ],
      "execution_count": 7,
      "outputs": [
        {
          "output_type": "stream",
          "text": [
            "<class 'pandas.core.frame.DataFrame'>\n",
            "RangeIndex: 555957 entries, 0 to 555956\n",
            "Data columns (total 18 columns):\n",
            " #   Column                        Non-Null Count   Dtype \n",
            "---  ------                        --------------   ----- \n",
            " 0   date_received                 555957 non-null  object\n",
            " 1   product                       555957 non-null  object\n",
            " 2   sub_product                   397635 non-null  object\n",
            " 3   issue                         555957 non-null  object\n",
            " 4   sub_issue                     212622 non-null  object\n",
            " 5   consumer_complaint_narrative  66806 non-null   object\n",
            " 6   company_public_response       85124 non-null   object\n",
            " 7   company                       555957 non-null  object\n",
            " 8   state                         551070 non-null  object\n",
            " 9   zipcode                       551452 non-null  object\n",
            " 10  tags                          77959 non-null   object\n",
            " 11  consumer_consent_provided     123458 non-null  object\n",
            " 12  submitted_via                 555957 non-null  object\n",
            " 13  date_sent_to_company          555957 non-null  object\n",
            " 14  company_response_to_consumer  555957 non-null  object\n",
            " 15  timely_response               555957 non-null  object\n",
            " 16  consumer_disputed?            555957 non-null  object\n",
            " 17  complaint_id                  555957 non-null  int64 \n",
            "dtypes: int64(1), object(17)\n",
            "memory usage: 76.3+ MB\n"
          ],
          "name": "stdout"
        }
      ]
    },
    {
      "cell_type": "code",
      "metadata": {
        "id": "XY3oQh0sHWi0",
        "colab": {
          "base_uri": "https://localhost:8080/"
        },
        "outputId": "9839af92-6e2f-44d0-ae37-e146d69aeb2f"
      },
      "source": [
        "data['issue'].value_counts()"
      ],
      "execution_count": 8,
      "outputs": [
        {
          "output_type": "execute_result",
          "data": {
            "text/plain": [
              "Loan modification,collection,foreclosure    97191\n",
              "Incorrect information on credit report      66718\n",
              "Loan servicing, payments, escrow account    60375\n",
              "Cont'd attempts collect debt not owed       42285\n",
              "Account opening, closing, or management     26661\n",
              "                                            ...  \n",
              "Lost or stolen money order                     25\n",
              "Incorrect exchange rate                        16\n",
              "Lender sold the property                        5\n",
              "Lender damaged or destroyed vehicle             5\n",
              "Lender damaged or destroyed property            1\n",
              "Name: issue, Length: 95, dtype: int64"
            ]
          },
          "metadata": {
            "tags": []
          },
          "execution_count": 8
        }
      ]
    },
    {
      "cell_type": "code",
      "metadata": {
        "id": "kD4EFP0arJk3",
        "colab": {
          "base_uri": "https://localhost:8080/"
        },
        "outputId": "d52c9e4b-6394-45e2-d123-66ce0028ef07"
      },
      "source": [
        "data[\"product\"].value_counts()"
      ],
      "execution_count": 9,
      "outputs": [
        {
          "output_type": "execute_result",
          "data": {
            "text/plain": [
              "Mortgage                   186475\n",
              "Debt collection            101052\n",
              "Credit reporting            91854\n",
              "Credit card                 66468\n",
              "Bank account or service     62563\n",
              "Consumer Loan               20990\n",
              "Student loan                15839\n",
              "Payday loan                  3877\n",
              "Money transfers              3812\n",
              "Prepaid card                 2470\n",
              "Other financial service       557\n",
              "Name: product, dtype: int64"
            ]
          },
          "metadata": {
            "tags": []
          },
          "execution_count": 9
        }
      ]
    },
    {
      "cell_type": "markdown",
      "metadata": {
        "id": "L2qZHaqiFpOj"
      },
      "source": [
        "# Feature Engineering :"
      ]
    },
    {
      "cell_type": "code",
      "metadata": {
        "id": "CDxwSt5Dtay7"
      },
      "source": [
        "\n",
        "con_df = pd.DataFrame()"
      ],
      "execution_count": 10,
      "outputs": []
    },
    {
      "cell_type": "code",
      "metadata": {
        "id": "kzWewFmSt--a"
      },
      "source": [
        "con_df = data[\"sub_issue\"].astype(str) + ',' + data[\"issue\"]"
      ],
      "execution_count": 11,
      "outputs": []
    },
    {
      "cell_type": "code",
      "metadata": {
        "id": "xm8PNFQEuQ_3",
        "colab": {
          "base_uri": "https://localhost:8080/"
        },
        "outputId": "18487ef6-3364-4f2b-bd98-61d93f7bfcc3"
      },
      "source": [
        "con_df.head()"
      ],
      "execution_count": 12,
      "outputs": [
        {
          "output_type": "execute_result",
          "data": {
            "text/plain": [
              "0         nan,Loan modification,collection,foreclosure\n",
              "1         nan,Loan servicing, payments, escrow account\n",
              "2    Account status,Incorrect information on credit...\n",
              "3                Repaying your loan,Repaying your loan\n",
              "4    Attempted to collect wrong amount,False statem...\n",
              "dtype: object"
            ]
          },
          "metadata": {
            "tags": []
          },
          "execution_count": 12
        }
      ]
    },
    {
      "cell_type": "code",
      "metadata": {
        "id": "ofs5k_7uuSvH",
        "colab": {
          "base_uri": "https://localhost:8080/"
        },
        "outputId": "978221b6-8438-45c0-8f55-ddad6e75ae4f"
      },
      "source": [
        "len(con_df)"
      ],
      "execution_count": 13,
      "outputs": [
        {
          "output_type": "execute_result",
          "data": {
            "text/plain": [
              "555957"
            ]
          },
          "metadata": {
            "tags": []
          },
          "execution_count": 13
        }
      ]
    },
    {
      "cell_type": "code",
      "metadata": {
        "id": "24altZSAuspr"
      },
      "source": [
        "import seaborn as sns"
      ],
      "execution_count": 14,
      "outputs": []
    },
    {
      "cell_type": "code",
      "metadata": {
        "id": "vuuiXqfQu4YY",
        "colab": {
          "base_uri": "https://localhost:8080/",
          "height": 393
        },
        "outputId": "6bf143ec-4e9e-4027-e847-be2788ddb086"
      },
      "source": [
        "import matplotlib.pyplot as plt\n",
        "data[\"product\"].value_counts().plot(kind='bar')"
      ],
      "execution_count": 15,
      "outputs": [
        {
          "output_type": "execute_result",
          "data": {
            "text/plain": [
              "<matplotlib.axes._subplots.AxesSubplot at 0x7fb820f36cd0>"
            ]
          },
          "metadata": {
            "tags": []
          },
          "execution_count": 15
        },
        {
          "output_type": "display_data",
          "data": {
            "image/png": "[encoded data removed]",
            "text/plain": [
              "<Figure size 432x288 with 1 Axes>"
            ]
          },
          "metadata": {
            "tags": [],
            "needs_background": "light"
          }
        }
      ]
    },
    {
      "cell_type": "markdown",
      "metadata": {
        "id": "Mn2Cm4q5Fjzo"
      },
      "source": [
        "## Text Cleaning  &  EDA  :"
      ]
    },
    {
      "cell_type": "code",
      "metadata": {
        "id": "acESp_pdv_CW"
      },
      "source": [
        "import re"
      ],
      "execution_count": 16,
      "outputs": []
    },
    {
      "cell_type": "code",
      "metadata": {
        "id": "2J82gFmIu-YC"
      },
      "source": [
        "# Crate a function to Clean Text :\n",
        "def cleantxt(text):\n",
        "  text = re.sub('nan,','',text)\n",
        "  text = re.sub('/', '', text)\n",
        "  text = re.sub('@[A-Za-z0-9]+', '', text)  # removing word that contains @\n",
        "  text = re.sub('#', '', text)              # removing word that contains #\n",
        "  text = re.sub('https?:\\/\\/\\S+', '', text) # removing hyperlinks \n",
        "  text = re.sub('RT[\\s]+', '', text)        # removing RT in case of Cleanning Re-Tweets from Text \n",
        "  text = re.sub('\\n', '', text)             # removing \\n\n",
        "  text = re.sub(':', '', text)              # removing :\n",
        "  text = re.sub(',', ' ', text)\n",
        "  return text"
      ],
      "execution_count": 17,
      "outputs": []
    },
    {
      "cell_type": "code",
      "metadata": {
        "id": "QveVLfNvwGGE"
      },
      "source": [
        "clean_con_df = con_df.apply(cleantxt)"
      ],
      "execution_count": 18,
      "outputs": []
    },
    {
      "cell_type": "code",
      "metadata": {
        "id": "PJsJNF6MwS7Q",
        "colab": {
          "base_uri": "https://localhost:8080/"
        },
        "outputId": "0f187dde-805b-441f-e5ca-0cdd27e1ec25"
      },
      "source": [
        "clean_con_df.head()"
      ],
      "execution_count": 19,
      "outputs": [
        {
          "output_type": "execute_result",
          "data": {
            "text/plain": [
              "0             Loan modification collection foreclosure\n",
              "1             Loan servicing  payments  escrow account\n",
              "2    Account status Incorrect information on credit...\n",
              "3                Repaying your loan Repaying your loan\n",
              "4    Attempted to collect wrong amount False statem...\n",
              "dtype: object"
            ]
          },
          "metadata": {
            "tags": []
          },
          "execution_count": 19
        }
      ]
    },
    {
      "cell_type": "code",
      "metadata": {
        "id": "31BzdYRQ87JH",
        "colab": {
          "base_uri": "https://localhost:8080/",
          "height": 35
        },
        "outputId": "0676c052-862b-475d-8b99-bb90081c444c"
      },
      "source": [
        "clean_con_df[0]"
      ],
      "execution_count": 20,
      "outputs": [
        {
          "output_type": "execute_result",
          "data": {
            "application/vnd.google.colaboratory.intrinsic+json": {
              "type": "string"
            },
            "text/plain": [
              "'Loan modification collection foreclosure'"
            ]
          },
          "metadata": {
            "tags": []
          },
          "execution_count": 20
        }
      ]
    },
    {
      "cell_type": "code",
      "metadata": {
        "id": "ki2TmR3XOu_g"
      },
      "source": [
        "\n",
        "split_issue = clean_con_df.apply(lambda x: x.split(','))"
      ],
      "execution_count": 21,
      "outputs": []
    },
    {
      "cell_type": "code",
      "metadata": {
        "id": "4pAZBIfXPW5B",
        "colab": {
          "base_uri": "https://localhost:8080/"
        },
        "outputId": "074bb692-b30f-49e8-82e1-f6db33ed869f"
      },
      "source": [
        "split_issue.head(15)"
      ],
      "execution_count": 22,
      "outputs": [
        {
          "output_type": "execute_result",
          "data": {
            "text/plain": [
              "0            [Loan modification collection foreclosure]\n",
              "1            [Loan servicing  payments  escrow account]\n",
              "2     [Account status Incorrect information on credi...\n",
              "3               [Repaying your loan Repaying your loan]\n",
              "4     [Attempted to collect wrong amount False state...\n",
              "5                        [Application processing delay]\n",
              "6                        [Credit line increasedecrease]\n",
              "7                            [Deposits and withdrawals]\n",
              "8                            [Deposits and withdrawals]\n",
              "9            [Loan modification collection foreclosure]\n",
              "10    [Debt was paid Cont'd attempts collect debt no...\n",
              "11           [Loan servicing  payments  escrow account]\n",
              "12                      [Credit decision  Underwriting]\n",
              "13           [Application  originator  mortgage broker]\n",
              "14    [Called outside of 8am-9pm Communication tactics]\n",
              "dtype: object"
            ]
          },
          "metadata": {
            "tags": []
          },
          "execution_count": 22
        }
      ]
    },
    {
      "cell_type": "code",
      "metadata": {
        "id": "MxemdaV2PlF9",
        "colab": {
          "base_uri": "https://localhost:8080/"
        },
        "outputId": "f4aee468-62dd-48ff-8bf9-076cd519f2af"
      },
      "source": [
        "len(split_issue)"
      ],
      "execution_count": 23,
      "outputs": [
        {
          "output_type": "execute_result",
          "data": {
            "text/plain": [
              "555957"
            ]
          },
          "metadata": {
            "tags": []
          },
          "execution_count": 23
        }
      ]
    },
    {
      "cell_type": "code",
      "metadata": {
        "id": "6Mk0tRH69hM8"
      },
      "source": [
        "# product = []\n",
        "# issue = []\n",
        "# for i in range(len(split_issue)-1):\n",
        "#   for j in split_issue[i]:\n",
        "#     product.append(data['product'][i])\n",
        "#     issue.append(j)"
      ],
      "execution_count": 24,
      "outputs": []
    },
    {
      "cell_type": "code",
      "metadata": {
        "id": "wc_N2YODPY0Q"
      },
      "source": [
        "# import numpy as np\n",
        "# np.array(product).shape"
      ],
      "execution_count": 25,
      "outputs": []
    },
    {
      "cell_type": "code",
      "metadata": {
        "id": "ZCdotaQtPbka"
      },
      "source": [
        "# np.array(issue).shape"
      ],
      "execution_count": 26,
      "outputs": []
    },
    {
      "cell_type": "code",
      "metadata": {
        "id": "hU9fc1NBP6KZ"
      },
      "source": [
        "final_data = pd.DataFrame()"
      ],
      "execution_count": 27,
      "outputs": []
    },
    {
      "cell_type": "code",
      "metadata": {
        "id": "1x1s2NkxdOId"
      },
      "source": [
        "final_data[\"product\"] = data[\"product\"]"
      ],
      "execution_count": 28,
      "outputs": []
    },
    {
      "cell_type": "code",
      "metadata": {
        "id": "6NfJTHQkdZif"
      },
      "source": [
        "final_data[\"issue\"] = pd.Series(clean_con_df)"
      ],
      "execution_count": 29,
      "outputs": []
    },
    {
      "cell_type": "code",
      "metadata": {
        "id": "tjxVaJpPdecD",
        "colab": {
          "base_uri": "https://localhost:8080/",
          "height": 203
        },
        "outputId": "8c8f15bd-953a-44c7-e73a-f51de1e04e1a"
      },
      "source": [
        "final_data.head()"
      ],
      "execution_count": 30,
      "outputs": [
        {
          "output_type": "execute_result",
          "data": {
            "text/html": [
              "<div>\n",
              "<style scoped>\n",
              "    .dataframe tbody tr th:only-of-type {\n",
              "        vertical-align: middle;\n",
              "    }\n",
              "\n",
              "    .dataframe tbody tr th {\n",
              "        vertical-align: top;\n",
              "    }\n",
              "\n",
              "    .dataframe thead th {\n",
              "        text-align: right;\n",
              "    }\n",
              "</style>\n",
              "<table border=\"1\" class=\"dataframe\">\n",
              "  <thead>\n",
              "    <tr style=\"text-align: right;\">\n",
              "      <th></th>\n",
              "      <th>product</th>\n",
              "      <th>issue</th>\n",
              "    </tr>\n",
              "  </thead>\n",
              "  <tbody>\n",
              "    <tr>\n",
              "      <th>0</th>\n",
              "      <td>Mortgage</td>\n",
              "      <td>Loan modification collection foreclosure</td>\n",
              "    </tr>\n",
              "    <tr>\n",
              "      <th>1</th>\n",
              "      <td>Mortgage</td>\n",
              "      <td>Loan servicing  payments  escrow account</td>\n",
              "    </tr>\n",
              "    <tr>\n",
              "      <th>2</th>\n",
              "      <td>Credit reporting</td>\n",
              "      <td>Account status Incorrect information on credit...</td>\n",
              "    </tr>\n",
              "    <tr>\n",
              "      <th>3</th>\n",
              "      <td>Student loan</td>\n",
              "      <td>Repaying your loan Repaying your loan</td>\n",
              "    </tr>\n",
              "    <tr>\n",
              "      <th>4</th>\n",
              "      <td>Debt collection</td>\n",
              "      <td>Attempted to collect wrong amount False statem...</td>\n",
              "    </tr>\n",
              "  </tbody>\n",
              "</table>\n",
              "</div>"
            ],
            "text/plain": [
              "            product                                              issue\n",
              "0          Mortgage           Loan modification collection foreclosure\n",
              "1          Mortgage           Loan servicing  payments  escrow account\n",
              "2  Credit reporting  Account status Incorrect information on credit...\n",
              "3      Student loan              Repaying your loan Repaying your loan\n",
              "4   Debt collection  Attempted to collect wrong amount False statem..."
            ]
          },
          "metadata": {
            "tags": []
          },
          "execution_count": 30
        }
      ]
    },
    {
      "cell_type": "code",
      "metadata": {
        "id": "eJ1juz-JdgYi",
        "colab": {
          "base_uri": "https://localhost:8080/"
        },
        "outputId": "c18dc5a2-71b6-4fa9-ffbb-4b8448a2d181"
      },
      "source": [
        "final_data.shape"
      ],
      "execution_count": 31,
      "outputs": [
        {
          "output_type": "execute_result",
          "data": {
            "text/plain": [
              "(555957, 2)"
            ]
          },
          "metadata": {
            "tags": []
          },
          "execution_count": 31
        }
      ]
    },
    {
      "cell_type": "code",
      "metadata": {
        "id": "i7Nl3PITGQtC",
        "colab": {
          "base_uri": "https://localhost:8080/",
          "height": 393
        },
        "outputId": "5b58ca0c-4a97-40f2-b1bd-5659ab946a67"
      },
      "source": [
        "final_data['product'].value_counts().plot(kind='bar')"
      ],
      "execution_count": 32,
      "outputs": [
        {
          "output_type": "execute_result",
          "data": {
            "text/plain": [
              "<matplotlib.axes._subplots.AxesSubplot at 0x7fb80682ba90>"
            ]
          },
          "metadata": {
            "tags": []
          },
          "execution_count": 32
        },
        {
          "output_type": "display_data",
          "data": {
            "image/png": "[encoded data removed]",
            "text/plain": [
              "<Figure size 432x288 with 1 Axes>"
            ]
          },
          "metadata": {
            "tags": [],
            "needs_background": "light"
          }
        }
      ]
    },
    {
      "cell_type": "code",
      "metadata": {
        "id": "RXSbje8WGfvx"
      },
      "source": [
        "y = final_data['product']"
      ],
      "execution_count": 33,
      "outputs": []
    },
    {
      "cell_type": "code",
      "metadata": {
        "id": "jQeg-OgSG8kv"
      },
      "source": [
        "y = pd.get_dummies(y)"
      ],
      "execution_count": 34,
      "outputs": []
    },
    {
      "cell_type": "code",
      "metadata": {
        "id": "lR92OgTDHBbp",
        "colab": {
          "base_uri": "https://localhost:8080/",
          "height": 203
        },
        "outputId": "d2dcbb1a-5a4e-47f3-ccf8-f8ca336161e2"
      },
      "source": [
        "y.head()"
      ],
      "execution_count": 35,
      "outputs": [
        {
          "output_type": "execute_result",
          "data": {
            "text/html": [
              "<div>\n",
              "<style scoped>\n",
              "    .dataframe tbody tr th:only-of-type {\n",
              "        vertical-align: middle;\n",
              "    }\n",
              "\n",
              "    .dataframe tbody tr th {\n",
              "        vertical-align: top;\n",
              "    }\n",
              "\n",
              "    .dataframe thead th {\n",
              "        text-align: right;\n",
              "    }\n",
              "</style>\n",
              "<table border=\"1\" class=\"dataframe\">\n",
              "  <thead>\n",
              "    <tr style=\"text-align: right;\">\n",
              "      <th></th>\n",
              "      <th>Bank account or service</th>\n",
              "      <th>Consumer Loan</th>\n",
              "      <th>Credit card</th>\n",
              "      <th>Credit reporting</th>\n",
              "      <th>Debt collection</th>\n",
              "      <th>Money transfers</th>\n",
              "      <th>Mortgage</th>\n",
              "      <th>Other financial service</th>\n",
              "      <th>Payday loan</th>\n",
              "      <th>Prepaid card</th>\n",
              "      <th>Student loan</th>\n",
              "    </tr>\n",
              "  </thead>\n",
              "  <tbody>\n",
              "    <tr>\n",
              "      <th>0</th>\n",
              "      <td>0</td>\n",
              "      <td>0</td>\n",
              "      <td>0</td>\n",
              "      <td>0</td>\n",
              "      <td>0</td>\n",
              "      <td>0</td>\n",
              "      <td>1</td>\n",
              "      <td>0</td>\n",
              "      <td>0</td>\n",
              "      <td>0</td>\n",
              "      <td>0</td>\n",
              "    </tr>\n",
              "    <tr>\n",
              "      <th>1</th>\n",
              "      <td>0</td>\n",
              "      <td>0</td>\n",
              "      <td>0</td>\n",
              "      <td>0</td>\n",
              "      <td>0</td>\n",
              "      <td>0</td>\n",
              "      <td>1</td>\n",
              "      <td>0</td>\n",
              "      <td>0</td>\n",
              "      <td>0</td>\n",
              "      <td>0</td>\n",
              "    </tr>\n",
              "    <tr>\n",
              "      <th>2</th>\n",
              "      <td>0</td>\n",
              "      <td>0</td>\n",
              "      <td>0</td>\n",
              "      <td>1</td>\n",
              "      <td>0</td>\n",
              "      <td>0</td>\n",
              "      <td>0</td>\n",
              "      <td>0</td>\n",
              "      <td>0</td>\n",
              "      <td>0</td>\n",
              "      <td>0</td>\n",
              "    </tr>\n",
              "    <tr>\n",
              "      <th>3</th>\n",
              "      <td>0</td>\n",
              "      <td>0</td>\n",
              "      <td>0</td>\n",
              "      <td>0</td>\n",
              "      <td>0</td>\n",
              "      <td>0</td>\n",
              "      <td>0</td>\n",
              "      <td>0</td>\n",
              "      <td>0</td>\n",
              "      <td>0</td>\n",
              "      <td>1</td>\n",
              "    </tr>\n",
              "    <tr>\n",
              "      <th>4</th>\n",
              "      <td>0</td>\n",
              "      <td>0</td>\n",
              "      <td>0</td>\n",
              "      <td>0</td>\n",
              "      <td>1</td>\n",
              "      <td>0</td>\n",
              "      <td>0</td>\n",
              "      <td>0</td>\n",
              "      <td>0</td>\n",
              "      <td>0</td>\n",
              "      <td>0</td>\n",
              "    </tr>\n",
              "  </tbody>\n",
              "</table>\n",
              "</div>"
            ],
            "text/plain": [
              "   Bank account or service  Consumer Loan  ...  Prepaid card  Student loan\n",
              "0                        0              0  ...             0             0\n",
              "1                        0              0  ...             0             0\n",
              "2                        0              0  ...             0             0\n",
              "3                        0              0  ...             0             1\n",
              "4                        0              0  ...             0             0\n",
              "\n",
              "[5 rows x 11 columns]"
            ]
          },
          "metadata": {
            "tags": []
          },
          "execution_count": 35
        }
      ]
    },
    {
      "cell_type": "code",
      "metadata": {
        "id": "sFIKTLftHCc8",
        "colab": {
          "base_uri": "https://localhost:8080/"
        },
        "outputId": "5e03ae42-e450-4816-cc6d-4809479935cf"
      },
      "source": [
        "y.shape"
      ],
      "execution_count": 36,
      "outputs": [
        {
          "output_type": "execute_result",
          "data": {
            "text/plain": [
              "(555957, 11)"
            ]
          },
          "metadata": {
            "tags": []
          },
          "execution_count": 36
        }
      ]
    },
    {
      "cell_type": "code",
      "metadata": {
        "id": "HSIW29Z-HOGc"
      },
      "source": [
        "from collections import Counter"
      ],
      "execution_count": 37,
      "outputs": []
    },
    {
      "cell_type": "code",
      "metadata": {
        "id": "eniEDBU8Ha9k"
      },
      "source": [
        "docs = final_data['issue'].values\n",
        "counts = Counter()\n",
        "for i,complaint in enumerate(docs):\n",
        "  counts.update(complaint.split())"
      ],
      "execution_count": 38,
      "outputs": []
    },
    {
      "cell_type": "code",
      "metadata": {
        "colab": {
          "base_uri": "https://localhost:8080/"
        },
        "id": "CHBy2XFC2r5q",
        "outputId": "602e8f4c-9441-48cb-8d11-6ebf824ab201"
      },
      "source": [
        "counts"
      ],
      "execution_count": 39,
      "outputs": [
        {
          "output_type": "execute_result",
          "data": {
            "text/plain": [
              "Counter({'8am-9pm': 699,\n",
              "         'APR': 4620,\n",
              "         'ATM': 4320,\n",
              "         'Account': 61711,\n",
              "         'Adding': 154,\n",
              "         'Advertising': 2257,\n",
              "         'Application': 13697,\n",
              "         'Applied': 546,\n",
              "         'Arbitration': 253,\n",
              "         'Attempted': 6981,\n",
              "         'Balance': 992,\n",
              "         'Bankruptcy': 379,\n",
              "         'Billing': 13695,\n",
              "         'CRC': 3199,\n",
              "         'Called': 2113,\n",
              "         \"Can't\": 10134,\n",
              "         'Cash': 352,\n",
              "         'Charged': 4023,\n",
              "         'ClosingCancelling': 4786,\n",
              "         'Collection': 1907,\n",
              "         'Communication': 18293,\n",
              "         \"Cont'd\": 42285,\n",
              "         'Contacted': 3871,\n",
              "         'Convenience': 113,\n",
              "         'Credit': 25792,\n",
              "         'Customer': 5149,\n",
              "         'Dealing': 5904,\n",
              "         'Debt': 44335,\n",
              "         'Delinquent': 2347,\n",
              "         'Deposits': 17195,\n",
              "         'Disclosure': 18292,\n",
              "         'Disclosures': 29,\n",
              "         \"Don't\": 768,\n",
              "         'Embezzlement': 5899,\n",
              "         'Excessive': 59,\n",
              "         'False': 8274,\n",
              "         'Fees': 140,\n",
              "         'Forbearance': 452,\n",
              "         'Fraud': 7953,\n",
              "         'Frequent': 11320,\n",
              "         'Getting': 689,\n",
              "         'Having': 981,\n",
              "         'I': 6465,\n",
              "         'Identity': 5899,\n",
              "         'Impersonated': 976,\n",
              "         'Improper': 10843,\n",
              "         'Inadequate': 1063,\n",
              "         'Incorrect': 66734,\n",
              "         'Incorrectmissing': 145,\n",
              "         'Indicated': 990,\n",
              "         'Information': 19900,\n",
              "         'Insurance': 4,\n",
              "         'Investigation': 1495,\n",
              "         'Keep': 649,\n",
              "         'Late': 2830,\n",
              "         'Lender': 59,\n",
              "         'Loan': 157566,\n",
              "         'Lost': 52,\n",
              "         'Makingreceiving': 5350,\n",
              "         'Managing': 11431,\n",
              "         'Money': 696,\n",
              "         'Need': 481,\n",
              "         'No': 3860,\n",
              "         'Not': 13672,\n",
              "         'Other': 13833,\n",
              "         'Overdraft': 33,\n",
              "         'Overlimit': 178,\n",
              "         'Payment': 553,\n",
              "         'Payoff': 1773,\n",
              "         'Personal': 4581,\n",
              "         'Privacy': 389,\n",
              "         'Problem': 13886,\n",
              "         'Problems': 17586,\n",
              "         'Public': 5573,\n",
              "         'Qualify': 107,\n",
              "         'Received': 2029,\n",
              "         'Receiving': 166,\n",
              "         'Reinserted': 2626,\n",
              "         'Repaying': 7664,\n",
              "         'Report': 3326,\n",
              "         'Rewards': 1798,\n",
              "         'Right': 4620,\n",
              "         'Sale': 250,\n",
              "         'SeizedAttempted': 775,\n",
              "         'Settlement': 6888,\n",
              "         'Shopping': 1557,\n",
              "         'Sued': 1243,\n",
              "         'Taking': 2876,\n",
              "         'Takingthreatening': 6516,\n",
              "         'Talked': 3521,\n",
              "         'Threatened': 7338,\n",
              "         'Transaction': 1867,\n",
              "         'Trouble': 1956,\n",
              "         'Unable': 8117,\n",
              "         'Unauthorized': 779,\n",
              "         'Underwriting': 4418,\n",
              "         'UnexpectedOther': 56,\n",
              "         'Unsolicited': 1155,\n",
              "         'Used': 1347,\n",
              "         'Using': 4320,\n",
              "         'Workout': 452,\n",
              "         'Wrong': 207,\n",
              "         'a': 11197,\n",
              "         'about': 5720,\n",
              "         'account': 69631,\n",
              "         'acct': 937,\n",
              "         'action': 10029,\n",
              "         'advance': 352,\n",
              "         'after': 5229,\n",
              "         'agree': 768,\n",
              "         'alerts': 1317,\n",
              "         'amount': 6515,\n",
              "         'amt': 384,\n",
              "         'an': 8668,\n",
              "         'and': 27306,\n",
              "         'annual': 4937,\n",
              "         'apply': 835,\n",
              "         'are': 10505,\n",
              "         'arrestjail': 1838,\n",
              "         'as': 1176,\n",
              "         'asked': 3690,\n",
              "         'attempt': 1176,\n",
              "         'attempts': 42285,\n",
              "         'attorney': 1157,\n",
              "         'available': 696,\n",
              "         'bad': 1069,\n",
              "         'balanceterms': 481,\n",
              "         'bank': 1067,\n",
              "         'bankruptcy': 1759,\n",
              "         'being': 9037,\n",
              "         'better': 107,\n",
              "         'broker': 13306,\n",
              "         'by': 12236,\n",
              "         'calls': 11969,\n",
              "         'cancelling': 343,\n",
              "         'card': 7525,\n",
              "         'caused': 9037,\n",
              "         'cease': 1414,\n",
              "         'changes': 1012,\n",
              "         'charged': 975,\n",
              "         'charges': 683,\n",
              "         'check': 27,\n",
              "         'checks': 113,\n",
              "         'closing': 27851,\n",
              "         'collect': 49769,\n",
              "         'collection': 97191,\n",
              "         'comm': 1414,\n",
              "         'committed': 731,\n",
              "         \"company's\": 10527,\n",
              "         'consent': 127,\n",
              "         'contact': 8835,\n",
              "         'costs': 6888,\n",
              "         'credit': 83499,\n",
              "         'credited': 553,\n",
              "         'crime': 731,\n",
              "         'customer': 981,\n",
              "         'damaged': 6,\n",
              "         'day': 384,\n",
              "         'debit': 4320,\n",
              "         'debt': 79763,\n",
              "         'decision': 4418,\n",
              "         'decrease': 1588,\n",
              "         'delay': 391,\n",
              "         'deleted': 2626,\n",
              "         'destroyed': 6,\n",
              "         'determination': 2324,\n",
              "         \"didn't\": 4752,\n",
              "         'discharged': 1759,\n",
              "         'disclosed': 1176,\n",
              "         'disclosures': 191,\n",
              "         'dispute': 10270,\n",
              "         'disputes': 11042,\n",
              "         'do': 1838,\n",
              "         'employer': 1826,\n",
              "         'enough': 12496,\n",
              "         'escrow': 60375,\n",
              "         'exchange': 16,\n",
              "         'exempt': 673,\n",
              "         'expect': 3639,\n",
              "         'features': 33,\n",
              "         'fee': 5004,\n",
              "         'fees': 4522,\n",
              "         'flexible': 1657,\n",
              "         'for': 3491,\n",
              "         'foreclosure': 97191,\n",
              "         'fraud': 1317,\n",
              "         'free': 4937,\n",
              "         'from': 2913,\n",
              "         'funds': 9710,\n",
              "         'get': 9774,\n",
              "         'getting': 8766,\n",
              "         'given': 12496,\n",
              "         'handled': 1956,\n",
              "         'help': 1063,\n",
              "         'how': 1956,\n",
              "         'identity': 5954,\n",
              "         'if': 1838,\n",
              "         'illegal': 6516,\n",
              "         'improperly': 3199,\n",
              "         'in': 1759,\n",
              "         'increasedecrease': 1732,\n",
              "         'info': 22659,\n",
              "         'information': 72849,\n",
              "         'instead': 181,\n",
              "         'interest': 8259,\n",
              "         'investigation': 14387,\n",
              "         'is': 46185,\n",
              "         'issuance': 1155,\n",
              "         'issue': 1867,\n",
              "         'issues': 2130,\n",
              "         'language': 1347,\n",
              "         'lawsuit': 259,\n",
              "         'lease': 14139,\n",
              "         'legal': 3513,\n",
              "         'lender': 7347,\n",
              "         'line': 2610,\n",
              "         'livesign': 278,\n",
              "         'loan': 29240,\n",
              "         'loandid': 546,\n",
              "         'long': 1495,\n",
              "         'low': 9037,\n",
              "         'management': 26661,\n",
              "         'marketing': 2382,\n",
              "         'marketingadvertising': 166,\n",
              "         'me': 2172,\n",
              "         'mine': 46185,\n",
              "         'modification': 97191,\n",
              "         'money': 6075,\n",
              "         'monitoring': 3041,\n",
              "         'monthly': 1588,\n",
              "         'mortgage': 13306,\n",
              "         'my': 34738,\n",
              "         'not': 101144,\n",
              "         'notice': 8480,\n",
              "         'notification': 965,\n",
              "         'obsceneprofaneabusive': 1347,\n",
              "         'of': 42646,\n",
              "         'offer': 125,\n",
              "         'offered': 107,\n",
              "         'official': 976,\n",
              "         'old': 1987,\n",
              "         'on': 68705,\n",
              "         'opening': 27508,\n",
              "         'opted': 125,\n",
              "         'options': 1657,\n",
              "         'or': 97631,\n",
              "         'order': 25,\n",
              "         'originator': 13306,\n",
              "         'out': 3001,\n",
              "         'outside': 699,\n",
              "         'over': 1063,\n",
              "         'owed': 42285,\n",
              "         'paid': 11328,\n",
              "         'party': 3521,\n",
              "         'pay': 10387,\n",
              "         'paying': 731,\n",
              "         'payment': 1657,\n",
              "         'payments': 69944,\n",
              "         'phone': 1063,\n",
              "         'plans': 452,\n",
              "         'postpone': 675,\n",
              "         'practices': 1003,\n",
              "         'previously': 2626,\n",
              "         'problems': 981,\n",
              "         'process': 8661,\n",
              "         'processing': 391,\n",
              "         'promised': 696,\n",
              "         'proper': 965,\n",
              "         'property': 781,\n",
              "         'protection': 7141,\n",
              "         'qualify': 168,\n",
              "         'rate': 4636,\n",
              "         'receive': 546,\n",
              "         'received': 4827,\n",
              "         'record': 5573,\n",
              "         'relations': 2652,\n",
              "         'repay': 3920,\n",
              "         'repeated': 11320,\n",
              "         'report': 78286,\n",
              "         'reportcredit': 8117,\n",
              "         'reporting': 12227,\n",
              "         'repossessed': 48,\n",
              "         'representation': 8274,\n",
              "         'respond': 259,\n",
              "         'resulted': 2913,\n",
              "         'rewards': 33,\n",
              "         'savings': 33,\n",
              "         'scam': 2054,\n",
              "         'score': 11297,\n",
              "         'seize': 775,\n",
              "         'sending': 5350,\n",
              "         'sent': 1414,\n",
              "         'service': 3831,\n",
              "         'serviceCustomer': 155,\n",
              "         'servicer': 5904,\n",
              "         'servicing': 60375,\n",
              "         'shared': 3326,\n",
              "         'sharing': 7392,\n",
              "         \"shouldn't\": 259,\n",
              "         'sold': 53,\n",
              "         'statement': 6125,\n",
              "         'statements': 8274,\n",
              "         'status': 26798,\n",
              "         'statusresult': 3860,\n",
              "         'stolen': 52,\n",
              "         'stop': 683,\n",
              "         'sue': 1987,\n",
              "         'suit': 965,\n",
              "         'tactics': 18293,\n",
              "         'take': 3513,\n",
              "         'temporarily': 675,\n",
              "         'terms': 8256,\n",
              "         'than': 107,\n",
              "         'the': 14576,\n",
              "         'theft': 8812,\n",
              "         'third': 3521,\n",
              "         'to': 56247,\n",
              "         'toCollected': 673,\n",
              "         'too': 3482,\n",
              "         'took': 1495,\n",
              "         'transaction': 998,\n",
              "         'transactionstrans.': 779,\n",
              "         'transfer': 992,\n",
              "         'unable': 8549,\n",
              "         'unwanted': 166,\n",
              "         'use': 3451,\n",
              "         'vehicle': 53,\n",
              "         'verification': 18292,\n",
              "         'verify': 12496,\n",
              "         'was': 13783,\n",
              "         'when': 9245,\n",
              "         'where': 278,\n",
              "         'with': 15162,\n",
              "         'withdrawals': 17195,\n",
              "         'wo': 1092,\n",
              "         'written': 1414,\n",
              "         'wrong': 6692,\n",
              "         'you': 8549,\n",
              "         'your': 7664})"
            ]
          },
          "metadata": {
            "tags": []
          },
          "execution_count": 39
        }
      ]
    },
    {
      "cell_type": "code",
      "metadata": {
        "id": "-YCTPs_2Jijy",
        "colab": {
          "base_uri": "https://localhost:8080/"
        },
        "outputId": "b9693e47-0efb-4de0-938b-3936e3e7b59e"
      },
      "source": [
        "docs"
      ],
      "execution_count": 40,
      "outputs": [
        {
          "output_type": "execute_result",
          "data": {
            "text/plain": [
              "array(['Loan modification collection foreclosure',\n",
              "       'Loan servicing  payments  escrow account',\n",
              "       'Account status Incorrect information on credit report', ...,\n",
              "       'Loan modification collection foreclosure',\n",
              "       'Frequent or repeated calls Communication tactics',\n",
              "       \"Debt is not mine Cont'd attempts collect debt not owed\"],\n",
              "      dtype=object)"
            ]
          },
          "metadata": {
            "tags": []
          },
          "execution_count": 40
        }
      ]
    },
    {
      "cell_type": "code",
      "metadata": {
        "id": "oZlmMufmLj6T",
        "colab": {
          "base_uri": "https://localhost:8080/"
        },
        "outputId": "af3332e1-224f-47f0-9b8a-b61ff20b7cee"
      },
      "source": [
        "docs.shape"
      ],
      "execution_count": 41,
      "outputs": [
        {
          "output_type": "execute_result",
          "data": {
            "text/plain": [
              "(555957,)"
            ]
          },
          "metadata": {
            "tags": []
          },
          "execution_count": 41
        }
      ]
    },
    {
      "cell_type": "code",
      "metadata": {
        "id": "wMU7f0xUIGir"
      },
      "source": [
        "words = sorted(counts, key=counts.get, reverse=True)\n",
        "vocab_size = len(words)"
      ],
      "execution_count": 42,
      "outputs": []
    },
    {
      "cell_type": "code",
      "metadata": {
        "id": "j26bPQvJIWsX",
        "colab": {
          "base_uri": "https://localhost:8080/"
        },
        "outputId": "7b44670b-a6d8-4903-a6ef-8a67c995a034"
      },
      "source": [
        "vocab_size"
      ],
      "execution_count": 43,
      "outputs": [
        {
          "output_type": "execute_result",
          "data": {
            "text/plain": [
              "339"
            ]
          },
          "metadata": {
            "tags": []
          },
          "execution_count": 43
        }
      ]
    },
    {
      "cell_type": "code",
      "metadata": {
        "id": "30vLuiuBKWPF",
        "colab": {
          "base_uri": "https://localhost:8080/"
        },
        "outputId": "63143e47-d395-47a4-ebd0-e93b97caf718"
      },
      "source": [
        "words[0:5]"
      ],
      "execution_count": 44,
      "outputs": [
        {
          "output_type": "execute_result",
          "data": {
            "text/plain": [
              "['Loan', 'not', 'or', 'modification', 'collection']"
            ]
          },
          "metadata": {
            "tags": []
          },
          "execution_count": 44
        }
      ]
    },
    {
      "cell_type": "code",
      "metadata": {
        "id": "JCaPbs8vIYsc"
      },
      "source": [
        "word_to_int = {word: i for i, word in enumerate(words,1)}"
      ],
      "execution_count": 45,
      "outputs": []
    },
    {
      "cell_type": "code",
      "metadata": {
        "id": "DxCfkhLIIp9u"
      },
      "source": [
        "int_to_word = {i: word for i, word in enumerate(words,1)}"
      ],
      "execution_count": 46,
      "outputs": []
    },
    {
      "cell_type": "code",
      "metadata": {
        "id": "8Qmp8-X6IzAn",
        "colab": {
          "base_uri": "https://localhost:8080/",
          "height": 35
        },
        "outputId": "e177f8fc-bd98-4914-dd7f-f1e2c5dd92f2"
      },
      "source": [
        "int_to_word[6]"
      ],
      "execution_count": 47,
      "outputs": [
        {
          "output_type": "execute_result",
          "data": {
            "application/vnd.google.colaboratory.intrinsic+json": {
              "type": "string"
            },
            "text/plain": [
              "'foreclosure'"
            ]
          },
          "metadata": {
            "tags": []
          },
          "execution_count": 47
        }
      ]
    },
    {
      "cell_type": "code",
      "metadata": {
        "id": "GM-cxQTKI1N1",
        "colab": {
          "base_uri": "https://localhost:8080/"
        },
        "outputId": "ff8ad992-4517-4160-d05b-8363c3289267"
      },
      "source": [
        "word_to_int['foreclosure']"
      ],
      "execution_count": 48,
      "outputs": [
        {
          "output_type": "execute_result",
          "data": {
            "text/plain": [
              "6"
            ]
          },
          "metadata": {
            "tags": []
          },
          "execution_count": 48
        }
      ]
    },
    {
      "cell_type": "code",
      "metadata": {
        "id": "TABc-CFmJL1b"
      },
      "source": [
        "encodded_docs = []\n",
        "for doc in docs:\n",
        "  encodded_docs.append([word_to_int[word] for word in doc.split()])"
      ],
      "execution_count": 49,
      "outputs": []
    },
    {
      "cell_type": "code",
      "metadata": {
        "id": "DnxFYmAML185",
        "colab": {
          "base_uri": "https://localhost:8080/"
        },
        "outputId": "7431b1fc-ca74-462e-d2ef-be110f4fd798"
      },
      "source": [
        "encodded_docs[:10]"
      ],
      "execution_count": 50,
      "outputs": [
        {
          "output_type": "execute_result",
          "data": {
            "text/plain": [
              "[[1, 4, 5, 6],\n",
              " [1, 16, 11, 17, 12],\n",
              " [15, 32, 14, 10, 13, 7, 9],\n",
              " [99, 100, 28, 99, 100, 28],\n",
              " [106, 18, 19, 109, 112, 91, 92, 3, 93],\n",
              " [51, 284, 285],\n",
              " [34, 174, 201],\n",
              " [42, 31, 43],\n",
              " [42, 31, 43],\n",
              " [1, 4, 5, 6]]"
            ]
          },
          "metadata": {
            "tags": []
          },
          "execution_count": 50
        }
      ]
    },
    {
      "cell_type": "code",
      "metadata": {
        "id": "urL2boDLL3Gm",
        "colab": {
          "base_uri": "https://localhost:8080/"
        },
        "outputId": "d24a2bcb-2788-48ae-86dc-1a06efc0d311"
      },
      "source": [
        "docs[:10]"
      ],
      "execution_count": 51,
      "outputs": [
        {
          "output_type": "execute_result",
          "data": {
            "text/plain": [
              "array(['Loan modification collection foreclosure',\n",
              "       'Loan servicing  payments  escrow account',\n",
              "       'Account status Incorrect information on credit report',\n",
              "       'Repaying your loan Repaying your loan',\n",
              "       'Attempted to collect wrong amount False statements or representation',\n",
              "       'Application processing delay', 'Credit line increasedecrease',\n",
              "       'Deposits and withdrawals', 'Deposits and withdrawals',\n",
              "       'Loan modification collection foreclosure'], dtype=object)"
            ]
          },
          "metadata": {
            "tags": []
          },
          "execution_count": 51
        }
      ]
    },
    {
      "cell_type": "code",
      "metadata": {
        "id": "Ny165XreO_KW",
        "colab": {
          "base_uri": "https://localhost:8080/"
        },
        "outputId": "1b998bc0-9cd7-4ecb-bb46-34403cc1d325"
      },
      "source": [
        "final_data['issue'].iloc[:10]"
      ],
      "execution_count": 52,
      "outputs": [
        {
          "output_type": "execute_result",
          "data": {
            "text/plain": [
              "0             Loan modification collection foreclosure\n",
              "1             Loan servicing  payments  escrow account\n",
              "2    Account status Incorrect information on credit...\n",
              "3                Repaying your loan Repaying your loan\n",
              "4    Attempted to collect wrong amount False statem...\n",
              "5                         Application processing delay\n",
              "6                         Credit line increasedecrease\n",
              "7                             Deposits and withdrawals\n",
              "8                             Deposits and withdrawals\n",
              "9             Loan modification collection foreclosure\n",
              "Name: issue, dtype: object"
            ]
          },
          "metadata": {
            "tags": []
          },
          "execution_count": 52
        }
      ]
    },
    {
      "cell_type": "code",
      "metadata": {
        "id": "L_9SNxgRMVg_",
        "colab": {
          "base_uri": "https://localhost:8080/"
        },
        "outputId": "5e4bd194-95ea-46b8-97f9-374fdb877ef4"
      },
      "source": [
        "docs.shape"
      ],
      "execution_count": 53,
      "outputs": [
        {
          "output_type": "execute_result",
          "data": {
            "text/plain": [
              "(555957,)"
            ]
          },
          "metadata": {
            "tags": []
          },
          "execution_count": 53
        }
      ]
    },
    {
      "cell_type": "code",
      "metadata": {
        "id": "Wf75yqt5MdnU",
        "colab": {
          "base_uri": "https://localhost:8080/"
        },
        "outputId": "bbcd8d94-68dc-406e-a764-a2c4ccfcdb58"
      },
      "source": [
        "import numpy as np\n",
        "np.array(encodded_docs).shape"
      ],
      "execution_count": 54,
      "outputs": [
        {
          "output_type": "stream",
          "text": [
            "/usr/local/lib/python3.7/dist-packages/ipykernel_launcher.py:2: VisibleDeprecationWarning: Creating an ndarray from ragged nested sequences (which is a list-or-tuple of lists-or-tuples-or ndarrays with different lengths or shapes) is deprecated. If you meant to do this, you must specify 'dtype=object' when creating the ndarray\n",
            "  \n"
          ],
          "name": "stderr"
        },
        {
          "output_type": "execute_result",
          "data": {
            "text/plain": [
              "(555957,)"
            ]
          },
          "metadata": {
            "tags": []
          },
          "execution_count": 54
        }
      ]
    },
    {
      "cell_type": "code",
      "metadata": {
        "id": "n-B_KfaMMfPE"
      },
      "source": [
        "from keras.preprocessing.sequence import pad_sequences"
      ],
      "execution_count": 55,
      "outputs": []
    },
    {
      "cell_type": "code",
      "metadata": {
        "id": "tb0Nt8eBMsus"
      },
      "source": [
        "l= []    # max words = \n",
        "for i in encodded_docs:\n",
        "  l.append(len(i))"
      ],
      "execution_count": 56,
      "outputs": []
    },
    {
      "cell_type": "code",
      "metadata": {
        "colab": {
          "base_uri": "https://localhost:8080/"
        },
        "id": "CCFqhuGK43iH",
        "outputId": "f9ac16a0-e1ba-4485-af49-83ea83b1d292"
      },
      "source": [
        "max(l)"
      ],
      "execution_count": 57,
      "outputs": [
        {
          "output_type": "execute_result",
          "data": {
            "text/plain": [
              "14"
            ]
          },
          "metadata": {
            "tags": []
          },
          "execution_count": 57
        }
      ]
    },
    {
      "cell_type": "code",
      "metadata": {
        "id": "MggMkCARM6wE"
      },
      "source": [
        "max_len= 10\n",
        "padded_docs = pad_sequences(encodded_docs, maxlen=max_len, padding='post')"
      ],
      "execution_count": 58,
      "outputs": []
    },
    {
      "cell_type": "code",
      "metadata": {
        "id": "VVVXCrKwNQj2",
        "colab": {
          "base_uri": "https://localhost:8080/"
        },
        "outputId": "b6ff1f14-8d45-47a6-f250-c73ee178748c"
      },
      "source": [
        "padded_docs[:10]"
      ],
      "execution_count": 59,
      "outputs": [
        {
          "output_type": "execute_result",
          "data": {
            "text/plain": [
              "array([[  1,   4,   5,   6,   0,   0,   0,   0,   0,   0],\n",
              "       [  1,  16,  11,  17,  12,   0,   0,   0,   0,   0],\n",
              "       [ 15,  32,  14,  10,  13,   7,   9,   0,   0,   0],\n",
              "       [ 99, 100,  28,  99, 100,  28,   0,   0,   0,   0],\n",
              "       [106,  18,  19, 109, 112,  91,  92,   3,  93,   0],\n",
              "       [ 51, 284, 285,   0,   0,   0,   0,   0,   0,   0],\n",
              "       [ 34, 174, 201,   0,   0,   0,   0,   0,   0,   0],\n",
              "       [ 42,  31,  43,   0,   0,   0,   0,   0,   0,   0],\n",
              "       [ 42,  31,  43,   0,   0,   0,   0,   0,   0,   0],\n",
              "       [  1,   4,   5,   6,   0,   0,   0,   0,   0,   0]], dtype=int32)"
            ]
          },
          "metadata": {
            "tags": []
          },
          "execution_count": 59
        }
      ]
    },
    {
      "cell_type": "markdown",
      "metadata": {
        "id": "M0NgQJVMFXmi"
      },
      "source": [
        "# Word2Vec Manual Conversion :"
      ]
    },
    {
      "cell_type": "code",
      "metadata": {
        "id": "cqrUK_l8NxaY"
      },
      "source": [
        "from gensim.models import Word2Vec"
      ],
      "execution_count": 60,
      "outputs": []
    },
    {
      "cell_type": "code",
      "metadata": {
        "id": "7YKsZRa2ODrM",
        "colab": {
          "base_uri": "https://localhost:8080/"
        },
        "outputId": "77d3255a-dd68-4c4c-be19-520a8b5b5b28"
      },
      "source": [
        "check = final_data['issue'].apply(lambda x: x.split())\n",
        "check[:10]"
      ],
      "execution_count": 61,
      "outputs": [
        {
          "output_type": "execute_result",
          "data": {
            "text/plain": [
              "0        [Loan, modification, collection, foreclosure]\n",
              "1         [Loan, servicing, payments, escrow, account]\n",
              "2    [Account, status, Incorrect, information, on, ...\n",
              "3         [Repaying, your, loan, Repaying, your, loan]\n",
              "4    [Attempted, to, collect, wrong, amount, False,...\n",
              "5                     [Application, processing, delay]\n",
              "6                     [Credit, line, increasedecrease]\n",
              "7                         [Deposits, and, withdrawals]\n",
              "8                         [Deposits, and, withdrawals]\n",
              "9        [Loan, modification, collection, foreclosure]\n",
              "Name: issue, dtype: object"
            ]
          },
          "metadata": {
            "tags": []
          },
          "execution_count": 61
        }
      ]
    },
    {
      "cell_type": "code",
      "metadata": {
        "id": "7Ce6vHpkOiQn"
      },
      "source": [
        "w2v_model = Word2Vec(check, min_count=1, size=50, window=2, max_vocab_size=339)"
      ],
      "execution_count": 62,
      "outputs": []
    },
    {
      "cell_type": "code",
      "metadata": {
        "id": "qy9bQaL_PaEW"
      },
      "source": [
        "model_words = list(w2v_model.wv.vocab)"
      ],
      "execution_count": 63,
      "outputs": []
    },
    {
      "cell_type": "code",
      "metadata": {
        "id": "ZUuG2TAzP5nk",
        "colab": {
          "base_uri": "https://localhost:8080/"
        },
        "outputId": "916ffd3a-df1c-4690-ba5a-9d81eb32d707"
      },
      "source": [
        "model_words[:10]"
      ],
      "execution_count": 64,
      "outputs": [
        {
          "output_type": "execute_result",
          "data": {
            "text/plain": [
              "['Loan',\n",
              " 'modification',\n",
              " 'collection',\n",
              " 'foreclosure',\n",
              " 'servicing',\n",
              " 'payments',\n",
              " 'escrow',\n",
              " 'account',\n",
              " 'Account',\n",
              " 'status']"
            ]
          },
          "metadata": {
            "tags": []
          },
          "execution_count": 64
        }
      ]
    },
    {
      "cell_type": "code",
      "metadata": {
        "id": "ptyGcTWoP71N",
        "colab": {
          "base_uri": "https://localhost:8080/"
        },
        "outputId": "752447d5-cbe1-46d1-86f4-0a016fe8d964"
      },
      "source": [
        "print(w2v_model)"
      ],
      "execution_count": 65,
      "outputs": [
        {
          "output_type": "stream",
          "text": [
            "Word2Vec(vocab=339, size=50, alpha=0.025)\n"
          ],
          "name": "stdout"
        }
      ]
    },
    {
      "cell_type": "code",
      "metadata": {
        "id": "EuAPmvGfQDlS",
        "colab": {
          "base_uri": "https://localhost:8080/"
        },
        "outputId": "4fe266a9-e257-4e2d-8274-c5e44a5c83d9"
      },
      "source": [
        "w2v_model['Loan'].shape"
      ],
      "execution_count": 66,
      "outputs": [
        {
          "output_type": "stream",
          "text": [
            "/usr/local/lib/python3.7/dist-packages/ipykernel_launcher.py:1: DeprecationWarning: Call to deprecated `__getitem__` (Method will be removed in 4.0.0, use self.wv.__getitem__() instead).\n",
            "  \"\"\"Entry point for launching an IPython kernel.\n"
          ],
          "name": "stderr"
        },
        {
          "output_type": "execute_result",
          "data": {
            "text/plain": [
              "(50,)"
            ]
          },
          "metadata": {
            "tags": []
          },
          "execution_count": 66
        }
      ]
    },
    {
      "cell_type": "code",
      "metadata": {
        "id": "nx9HBv2hQKrn",
        "colab": {
          "base_uri": "https://localhost:8080/"
        },
        "outputId": "57c04a8a-ebef-47e0-f091-e62f95d0c12a"
      },
      "source": [
        "w2v_model['Loan']"
      ],
      "execution_count": 67,
      "outputs": [
        {
          "output_type": "stream",
          "text": [
            "/usr/local/lib/python3.7/dist-packages/ipykernel_launcher.py:1: DeprecationWarning: Call to deprecated `__getitem__` (Method will be removed in 4.0.0, use self.wv.__getitem__() instead).\n",
            "  \"\"\"Entry point for launching an IPython kernel.\n"
          ],
          "name": "stderr"
        },
        {
          "output_type": "execute_result",
          "data": {
            "text/plain": [
              "array([ 0.17693967, -0.94275534, -0.39078087,  0.04868909,  0.81296194,\n",
              "       -1.6555692 ,  0.3880071 , -1.869072  ,  0.6180274 ,  1.2669271 ,\n",
              "        0.7708124 ,  2.1664357 , -0.48371434,  0.882988  ,  1.6888129 ,\n",
              "        0.58078223,  1.721428  ,  1.3059752 , -0.39963466, -1.2020084 ,\n",
              "       -1.1970756 , -1.8771627 ,  2.435508  , -1.8729529 , -2.964399  ,\n",
              "        0.7733153 ,  1.1501006 , -1.1073611 , -1.8468466 , -0.9867129 ,\n",
              "        0.8606512 , -1.730014  ,  1.4333901 , -0.6137386 ,  1.4806775 ,\n",
              "        1.0414782 ,  0.04737346,  2.725627  ,  0.18510742,  0.29844704,\n",
              "        0.8914861 , -2.0781937 ,  0.84435904,  1.3469988 , -0.8376562 ,\n",
              "       -1.8952461 ,  0.72946906,  0.95208967, -0.4700995 , -0.11413469],\n",
              "      dtype=float32)"
            ]
          },
          "metadata": {
            "tags": []
          },
          "execution_count": 67
        }
      ]
    },
    {
      "cell_type": "code",
      "metadata": {
        "id": "L_G4UFBOQSHT"
      },
      "source": [
        "w2v_model.save('w2v_model.bin')"
      ],
      "execution_count": 68,
      "outputs": []
    },
    {
      "cell_type": "code",
      "metadata": {
        "id": "INKoWtZjQeU6"
      },
      "source": [
        "new_model = Word2Vec.load('w2v_model.bin')"
      ],
      "execution_count": 69,
      "outputs": []
    },
    {
      "cell_type": "code",
      "metadata": {
        "id": "zZwBldU_Qn9G",
        "colab": {
          "base_uri": "https://localhost:8080/"
        },
        "outputId": "777e76f5-cbcd-462e-817e-34d482bea562"
      },
      "source": [
        "print(new_model)"
      ],
      "execution_count": 70,
      "outputs": [
        {
          "output_type": "stream",
          "text": [
            "Word2Vec(vocab=339, size=50, alpha=0.025)\n"
          ],
          "name": "stdout"
        }
      ]
    },
    {
      "cell_type": "code",
      "metadata": {
        "id": "BGpzoiayQpKN",
        "colab": {
          "base_uri": "https://localhost:8080/"
        },
        "outputId": "27304fd9-a706-4307-ae69-8d6cf665708c"
      },
      "source": [
        "padded_docs.shape"
      ],
      "execution_count": 71,
      "outputs": [
        {
          "output_type": "execute_result",
          "data": {
            "text/plain": [
              "(555957, 10)"
            ]
          },
          "metadata": {
            "tags": []
          },
          "execution_count": 71
        }
      ]
    },
    {
      "cell_type": "code",
      "metadata": {
        "id": "SpQmB-siQyzp"
      },
      "source": [
        "padded_docs_arr = np.array(padded_docs).reshape(len(padded_docs), padded_docs.shape[1])"
      ],
      "execution_count": 72,
      "outputs": []
    },
    {
      "cell_type": "code",
      "metadata": {
        "colab": {
          "base_uri": "https://localhost:8080/"
        },
        "id": "ZEQY65eW66BU",
        "outputId": "3609ae45-d1eb-41aa-cafc-0ab09283067b"
      },
      "source": [
        "padded_docs_arr.shape"
      ],
      "execution_count": 73,
      "outputs": [
        {
          "output_type": "execute_result",
          "data": {
            "text/plain": [
              "(555957, 10)"
            ]
          },
          "metadata": {
            "tags": []
          },
          "execution_count": 73
        }
      ]
    },
    {
      "cell_type": "code",
      "metadata": {
        "id": "ygV3NhLBYjnw"
      },
      "source": [
        "# import gensim\n",
        "# gensim.__version__"
      ],
      "execution_count": 74,
      "outputs": []
    },
    {
      "cell_type": "code",
      "metadata": {
        "id": "0gdOT9vVyNzp"
      },
      "source": [
        "import tensorflow as tf"
      ],
      "execution_count": 75,
      "outputs": []
    },
    {
      "cell_type": "markdown",
      "metadata": {
        "id": "Pgegj9i9FMDf"
      },
      "source": [
        "# Neural Network :"
      ]
    },
    {
      "cell_type": "code",
      "metadata": {
        "id": "U2NaDrdURrGr"
      },
      "source": [
        "from keras.layers.recurrent import SimpleRNN\n",
        "from keras.layers.embeddings import Embedding\n",
        "from keras.layers import LSTM, Dense, Flatten\n",
        "from keras.models import Sequential"
      ],
      "execution_count": 76,
      "outputs": []
    },
    {
      "cell_type": "code",
      "metadata": {
        "id": "hjiLInJEBb9i",
        "colab": {
          "base_uri": "https://localhost:8080/"
        },
        "outputId": "58773d0a-d606-41ab-ce73-78d8ba57f18d"
      },
      "source": [
        "vocab_size"
      ],
      "execution_count": 77,
      "outputs": [
        {
          "output_type": "execute_result",
          "data": {
            "text/plain": [
              "339"
            ]
          },
          "metadata": {
            "tags": []
          },
          "execution_count": 77
        }
      ]
    },
    {
      "cell_type": "code",
      "metadata": {
        "id": "dbmMfjavBkch",
        "colab": {
          "base_uri": "https://localhost:8080/"
        },
        "outputId": "ca9c3738-0899-4ae7-f30b-78870f60e02e"
      },
      "source": [
        "y.shape"
      ],
      "execution_count": 78,
      "outputs": [
        {
          "output_type": "execute_result",
          "data": {
            "text/plain": [
              "(555957, 11)"
            ]
          },
          "metadata": {
            "tags": []
          },
          "execution_count": 78
        }
      ]
    },
    {
      "cell_type": "markdown",
      "metadata": {
        "id": "JlxE0mnKFCRT"
      },
      "source": [
        "## Simple RNN :"
      ]
    },
    {
      "cell_type": "code",
      "metadata": {
        "id": "nxkFtx53A65T"
      },
      "source": [
        "# # define the model\n",
        "# embed_length=50\n",
        "# # model = Sequential()\n",
        "# # model.add(Embedding(vocab_size - 1, embed_length, input_length=max_len))\n",
        "# model = tf.keras.Sequential()\n",
        "# model.add(tf.keras.layers.Embedding(len(padded_docs), embed_length, input_length=10))\n",
        "# model.add(SimpleRNN(1,activation='sigmoid', return_sequences=False,recurrent_initializer='Zeros',input_shape=(max_len,embed_length),unroll=True))\n",
        "# #model.add(Flatten())\n",
        "# model.add(Dense(11, activation='softmax'))\n",
        "# #model.add(Dense(1, activation='sigmoid'))\n",
        "# # compile the model\n",
        "# model.compile(optimizer='adam', loss='categorical_crossentropy', metrics=['accuracy'])\n",
        "# # summarize the model\n",
        "# print(model.summary())"
      ],
      "execution_count": 87,
      "outputs": []
    },
    {
      "cell_type": "code",
      "metadata": {
        "id": "6Xu1BkPECrU2"
      },
      "source": [
        ""
      ],
      "execution_count": null,
      "outputs": []
    },
    {
      "cell_type": "markdown",
      "metadata": {
        "id": "E933FLbg7d9t"
      },
      "source": [
        "# Bi-Directional LSTM :"
      ]
    },
    {
      "cell_type": "code",
      "metadata": {
        "id": "VDSJEYN5VEAV"
      },
      "source": [
        "from tensorflow.keras import Model,Input\n",
        "from tensorflow.keras.layers import LSTM,Embedding,Dense\n",
        "from tensorflow.keras.layers import TimeDistributed, SpatialDropout1D,Bidirectional\n"
      ],
      "execution_count": 80,
      "outputs": []
    },
    {
      "cell_type": "code",
      "metadata": {
        "id": "MF8YOWJJU8KN"
      },
      "source": [
        "model = tf.keras.Sequential()\n",
        "model.add(tf.keras.layers.Embedding(len(padded_docs),output_dim=50, input_length=10))\n",
        "model.add(Bidirectional(LSTM(100, return_sequences = True, recurrent_dropout = 0.1)))\n",
        "# model.add(Dense(11, activation='softmax'))\n",
        "model.add(Flatten())\n",
        "# model.add(Dense(128, activation='sigmoid'))\n",
        "model.add(Dense(11, activation='softmax'))\n",
        "# model.add(tf.keras.layers(Bidirectional(LSTM(32, ))))"
      ],
      "execution_count": 82,
      "outputs": []
    },
    {
      "cell_type": "code",
      "metadata": {
        "colab": {
          "base_uri": "https://localhost:8080/"
        },
        "id": "bPaq_tHCXN_4",
        "outputId": "8fb5a8a8-3687-4d7d-8431-e4b134367b17"
      },
      "source": [
        "model.summary()"
      ],
      "execution_count": 83,
      "outputs": [
        {
          "output_type": "stream",
          "text": [
            "Model: \"sequential_1\"\n",
            "_________________________________________________________________\n",
            "Layer (type)                 Output Shape              Param #   \n",
            "=================================================================\n",
            "embedding_1 (Embedding)      (None, 10, 50)            27797850  \n",
            "_________________________________________________________________\n",
            "bidirectional_1 (Bidirection (None, 10, 200)           120800    \n",
            "_________________________________________________________________\n",
            "module_wrapper_1 (ModuleWrap (None, 2000)              0         \n",
            "_________________________________________________________________\n",
            "dense_1 (Dense)              (None, 11)                22011     \n",
            "=================================================================\n",
            "Total params: 27,940,661\n",
            "Trainable params: 27,940,661\n",
            "Non-trainable params: 0\n",
            "_________________________________________________________________\n"
          ],
          "name": "stdout"
        }
      ]
    },
    {
      "cell_type": "code",
      "metadata": {
        "id": "y8Xjx11KVblJ"
      },
      "source": [
        "model.compile(optimizer = 'adam',loss = 'categorical_crossentropy',metrics = ['accuracy'])"
      ],
      "execution_count": 84,
      "outputs": []
    },
    {
      "cell_type": "code",
      "metadata": {
        "id": "GYGWFRJPB4kr",
        "colab": {
          "base_uri": "https://localhost:8080/"
        },
        "outputId": "d94fb721-f402-42ec-bdf0-3baf7e6a9d68"
      },
      "source": [
        "history = model.fit(padded_docs[:420000], np.array(y[:420000]), epochs=2, validation_split=0.2, verbose=1, batch_size=256)"
      ],
      "execution_count": 86,
      "outputs": [
        {
          "output_type": "stream",
          "text": [
            "Epoch 1/2\n",
            "1313/1313 [==============================] - 513s 387ms/step - loss: 0.0698 - accuracy: 0.9779 - val_loss: 0.0161 - val_accuracy: 0.9907\n",
            "Epoch 2/2\n",
            "1313/1313 [==============================] - 508s 387ms/step - loss: 0.0161 - accuracy: 0.9922 - val_loss: 0.0156 - val_accuracy: 0.9907\n"
          ],
          "name": "stdout"
        }
      ]
    },
    {
      "cell_type": "code",
      "metadata": {
        "id": "rPtdvqhMwiah"
      },
      "source": [
        "# history.history['']"
      ],
      "execution_count": null,
      "outputs": []
    },
    {
      "cell_type": "markdown",
      "metadata": {
        "id": "OCr5c6DZE6qj"
      },
      "source": [
        "# Loss & Accuracy Graph :"
      ]
    },
    {
      "cell_type": "code",
      "metadata": {
        "colab": {
          "base_uri": "https://localhost:8080/",
          "height": 421
        },
        "id": "b3dpF6mEwW_s",
        "outputId": "aeecaed3-91de-404c-b0d2-f780e9309b63"
      },
      "source": [
        "# visulize loss w.r.t epochs :\n",
        "fig, (ax1, ax2) = plt.subplots(2,1, figsize=(12,6))\n",
        "ax2.plot(history.history['loss'], color='orange', label='Loss')\n",
        "ax2.plot(history.history['val_loss'], color='blue', label='val_loss')\n",
        "ax2.legend(loc='upper right')\n",
        "ax1.plot(history.history['accuracy'], label='Accuracy', color='orange')\n",
        "ax1.plot(history.history['val_accuracy'], label='val_accuracy', color='blue')\n",
        "ax1.legend(loc=\"upper right\")\n",
        "ax1.set_title(\"Model-Accuracy w.r.t Epochs\", loc='center')\n",
        "plt.xlabel(\"Epochs\")\n",
        "plt.ylabel(\"Loss\")\n",
        "ax1.set_xlabel(\"Epoch\")\n",
        "ax1.set_ylabel(\"Accuracy\")\n"
      ],
      "execution_count": 87,
      "outputs": [
        {
          "output_type": "execute_result",
          "data": {
            "text/plain": [
              "Text(0, 0.5, 'Accuracy')"
            ]
          },
          "metadata": {
            "tags": []
          },
          "execution_count": 87
        },
        {
          "output_type": "display_data",
          "data": {
            "image/png": "[encoded data removed]",
            "text/plain": [
              "<Figure size 864x432 with 2 Axes>"
            ]
          },
          "metadata": {
            "tags": [],
            "needs_background": "light"
          }
        }
      ]
    },
    {
      "cell_type": "markdown",
      "metadata": {
        "id": "K-TF8tsnx3XZ"
      },
      "source": [
        "# Prediction :\n"
      ]
    },
    {
      "cell_type": "code",
      "metadata": {
        "id": "yzCaQ8DAxpbM"
      },
      "source": [
        "y_pred = model.predict(padded_docs[420000:])"
      ],
      "execution_count": 88,
      "outputs": []
    },
    {
      "cell_type": "code",
      "metadata": {
        "id": "CVrRQWSjycTy"
      },
      "source": [
        "y_pred_classes = np.argmax(y_pred, axis=1)"
      ],
      "execution_count": 89,
      "outputs": []
    },
    {
      "cell_type": "code",
      "metadata": {
        "colab": {
          "base_uri": "https://localhost:8080/"
        },
        "id": "0_9O8Gs_ylEr",
        "outputId": "bf206ad1-1690-45ac-e575-79e062b9ded3"
      },
      "source": [
        "y_pred_classes"
      ],
      "execution_count": 90,
      "outputs": [
        {
          "output_type": "execute_result",
          "data": {
            "text/plain": [
              "array([2, 0, 2, ..., 6, 4, 4])"
            ]
          },
          "metadata": {
            "tags": []
          },
          "execution_count": 90
        }
      ]
    },
    {
      "cell_type": "code",
      "metadata": {
        "id": "pImhqsx0ywX4"
      },
      "source": [
        "y_test = np.array(y[420000:])"
      ],
      "execution_count": 91,
      "outputs": []
    },
    {
      "cell_type": "code",
      "metadata": {
        "colab": {
          "base_uri": "https://localhost:8080/"
        },
        "id": "DMerAxFqy9GI",
        "outputId": "489cc55e-7b2e-45cf-fc47-4acec8baacaf"
      },
      "source": [
        "y_test"
      ],
      "execution_count": 92,
      "outputs": [
        {
          "output_type": "execute_result",
          "data": {
            "text/plain": [
              "array([[0, 0, 1, ..., 0, 0, 0],\n",
              "       [1, 0, 0, ..., 0, 0, 0],\n",
              "       [0, 0, 1, ..., 0, 0, 0],\n",
              "       ...,\n",
              "       [0, 0, 0, ..., 0, 0, 0],\n",
              "       [0, 0, 0, ..., 0, 0, 0],\n",
              "       [0, 0, 0, ..., 0, 0, 0]], dtype=uint8)"
            ]
          },
          "metadata": {
            "tags": []
          },
          "execution_count": 92
        }
      ]
    },
    {
      "cell_type": "code",
      "metadata": {
        "id": "nwDVEM9by-0P"
      },
      "source": [
        "y_true = np.argmax(y_test, axis=1)"
      ],
      "execution_count": 93,
      "outputs": []
    },
    {
      "cell_type": "code",
      "metadata": {
        "colab": {
          "base_uri": "https://localhost:8080/"
        },
        "id": "99O_mmFdzGE8",
        "outputId": "ba1d7698-566f-470a-da16-9a2e0fefc825"
      },
      "source": [
        "y_true"
      ],
      "execution_count": 94,
      "outputs": [
        {
          "output_type": "execute_result",
          "data": {
            "text/plain": [
              "array([2, 0, 2, ..., 6, 4, 4])"
            ]
          },
          "metadata": {
            "tags": []
          },
          "execution_count": 94
        }
      ]
    },
    {
      "cell_type": "markdown",
      "metadata": {
        "id": "hltSkNRqzKXd"
      },
      "source": [
        "## Accuracy :"
      ]
    },
    {
      "cell_type": "code",
      "metadata": {
        "colab": {
          "base_uri": "https://localhost:8080/"
        },
        "id": "dt_MlaC_zJa7",
        "outputId": "d5e5befd-1a2c-4b52-adc1-4bcb2d21c0c2"
      },
      "source": [
        "np.mean(y_true == y_pred_classes)"
      ],
      "execution_count": 95,
      "outputs": [
        {
          "output_type": "execute_result",
          "data": {
            "text/plain": [
              "0.9868561383378568"
            ]
          },
          "metadata": {
            "tags": []
          },
          "execution_count": 95
        }
      ]
    },
    {
      "cell_type": "markdown",
      "metadata": {
        "id": "QOXNfEiLziS3"
      },
      "source": [
        "# Confusion Matrix :"
      ]
    },
    {
      "cell_type": "code",
      "metadata": {
        "id": "tOpQhP5DzHZ6"
      },
      "source": [
        "from sklearn.metrics import confusion_matrix\n",
        "cm = confusion_matrix(y_true, y_pred_classes)"
      ],
      "execution_count": 96,
      "outputs": []
    },
    {
      "cell_type": "code",
      "metadata": {
        "colab": {
          "base_uri": "https://localhost:8080/",
          "height": 328
        },
        "id": "o_OlYhZCzc6y",
        "outputId": "5297462c-052b-4d81-89e2-055ca7387918"
      },
      "source": [
        "import itertools\n",
        "plt.imshow(cm, cmap = plt.cm.Blues, interpolation='nearest')\n",
        "plt.title(\"Confusion Matrix\")\n",
        "plt.colorbar()\n",
        "tick_marks = np.arange(len(range(10)))\n",
        "plt.xticks(tick_marks, range(10), rotation=45)\n",
        "plt.yticks(tick_marks, range(10))\n",
        "thresh = cm.max()/2\n",
        "for i, j in itertools.product(range(cm.shape[0]), range(cm.shape[1])):\n",
        "  plt.text(j, i , cm[i,j], horizontalalignment=\"center\", color=\"white\" if cm[i,j]>thresh else \"black\")\n",
        "plt.tight_layout()\n",
        "plt.ylabel(\"True Label\")\n",
        "plt.xlabel(\"Predicted Label\")"
      ],
      "execution_count": 97,
      "outputs": [
        {
          "output_type": "execute_result",
          "data": {
            "text/plain": [
              "Text(0.5, 13.421126458070283, 'Predicted Label')"
            ]
          },
          "metadata": {
            "tags": []
          },
          "execution_count": 97
        },
        {
          "output_type": "display_data",
          "data": {
            "image/png": "[encoded data removed]",
            "text/plain": [
              "<Figure size 432x288 with 2 Axes>"
            ]
          },
          "metadata": {
            "tags": [],
            "needs_background": "light"
          }
        }
      ]
    },
    {
      "cell_type": "code",
      "metadata": {
        "colab": {
          "base_uri": "https://localhost:8080/"
        },
        "id": "yq-cXA2r1cJM",
        "outputId": "963d36af-f889-466e-d1b7-b028c911c33e"
      },
      "source": [
        "model.layers"
      ],
      "execution_count": 98,
      "outputs": [
        {
          "output_type": "execute_result",
          "data": {
            "text/plain": [
              "[<tensorflow.python.keras.layers.embeddings.Embedding at 0x7fb79f9e8150>,\n",
              " <tensorflow.python.keras.layers.wrappers.Bidirectional at 0x7fb7b66302d0>,\n",
              " <tensorflow.python.keras.engine.functional.ModuleWrapper at 0x7fb79f7b8ad0>,\n",
              " <tensorflow.python.keras.layers.core.Dense at 0x7fb79f74e610>]"
            ]
          },
          "metadata": {
            "tags": []
          },
          "execution_count": 98
        }
      ]
    },
    {
      "cell_type": "code",
      "metadata": {
        "id": "hSEOCy3r3l_M"
      },
      "source": [
        "emb_model = Model(inputs=model.input, outputs=model.layers[0].output)"
      ],
      "execution_count": 99,
      "outputs": []
    },
    {
      "cell_type": "markdown",
      "metadata": {
        "id": "QPuLuAcU4nkt"
      },
      "source": [
        "# Test data Distriution :"
      ]
    },
    {
      "cell_type": "code",
      "metadata": {
        "id": "410_7-HP4acH"
      },
      "source": [
        "vectors = emb_model.predict(padded_docs[420000:])"
      ],
      "execution_count": 100,
      "outputs": []
    },
    {
      "cell_type": "code",
      "metadata": {
        "colab": {
          "base_uri": "https://localhost:8080/"
        },
        "id": "08nAXNeu4lhi",
        "outputId": "a146e88e-d7b6-43db-b708-1fcf3d77316f"
      },
      "source": [
        "vectors.shape"
      ],
      "execution_count": 101,
      "outputs": [
        {
          "output_type": "execute_result",
          "data": {
            "text/plain": [
              "(135957, 10, 50)"
            ]
          },
          "metadata": {
            "tags": []
          },
          "execution_count": 101
        }
      ]
    },
    {
      "cell_type": "code",
      "metadata": {
        "id": "czXkQm8h4wie"
      },
      "source": [
        "from sklearn.feature_extraction.text import CountVectorizer, TfidfVectorizer"
      ],
      "execution_count": 102,
      "outputs": []
    },
    {
      "cell_type": "code",
      "metadata": {
        "id": "IH4uaLl144id"
      },
      "source": [
        "tfidf_vec = TfidfVectorizer()"
      ],
      "execution_count": 103,
      "outputs": []
    },
    {
      "cell_type": "code",
      "metadata": {
        "colab": {
          "base_uri": "https://localhost:8080/"
        },
        "id": "_ueFaDgJ5Sdx",
        "outputId": "1c2b2a8e-48b7-4864-98d0-7b7a1ea15c46"
      },
      "source": [
        "tfidf_vec.fit(docs)"
      ],
      "execution_count": 104,
      "outputs": [
        {
          "output_type": "execute_result",
          "data": {
            "text/plain": [
              "TfidfVectorizer(analyzer='word', binary=False, decode_error='strict',\n",
              "                dtype=<class 'numpy.float64'>, encoding='utf-8',\n",
              "                input='content', lowercase=True, max_df=1.0, max_features=None,\n",
              "                min_df=1, ngram_range=(1, 1), norm='l2', preprocessor=None,\n",
              "                smooth_idf=True, stop_words=None, strip_accents=None,\n",
              "                sublinear_tf=False, token_pattern='(?u)\\\\b\\\\w\\\\w+\\\\b',\n",
              "                tokenizer=None, use_idf=True, vocabulary=None)"
            ]
          },
          "metadata": {
            "tags": []
          },
          "execution_count": 104
        }
      ]
    },
    {
      "cell_type": "code",
      "metadata": {
        "colab": {
          "base_uri": "https://localhost:8080/"
        },
        "id": "6IPMBwRe5Uec",
        "outputId": "893e8318-5087-4a2d-c72e-e857ec5ad1ba"
      },
      "source": [
        "issue_vector = tfidf_vec.transform(docs)\n",
        "print (issue_vector.toarray())"
      ],
      "execution_count": 105,
      "outputs": [
        {
          "output_type": "stream",
          "text": [
            "[[0. 0. 0. ... 0. 0. 0.]\n",
            " [0. 0. 0. ... 0. 0. 0.]\n",
            " [0. 0. 0. ... 0. 0. 0.]\n",
            " ...\n",
            " [0. 0. 0. ... 0. 0. 0.]\n",
            " [0. 0. 0. ... 0. 0. 0.]\n",
            " [0. 0. 0. ... 0. 0. 0.]]\n"
          ],
          "name": "stdout"
        }
      ]
    },
    {
      "cell_type": "code",
      "metadata": {
        "colab": {
          "base_uri": "https://localhost:8080/"
        },
        "id": "tPDFq3IH5chj",
        "outputId": "53375c7c-dc5e-40dd-e11d-2cceb36c71f0"
      },
      "source": [
        "issue_vector.shape"
      ],
      "execution_count": 106,
      "outputs": [
        {
          "output_type": "execute_result",
          "data": {
            "text/plain": [
              "(555957, 311)"
            ]
          },
          "metadata": {
            "tags": []
          },
          "execution_count": 106
        }
      ]
    },
    {
      "cell_type": "markdown",
      "metadata": {
        "id": "cBBQoSN-EyS0"
      },
      "source": [
        "### Singular Value Decomposition :"
      ]
    },
    {
      "cell_type": "code",
      "metadata": {
        "id": "86PMcKhm5f2N"
      },
      "source": [
        "from sklearn.decomposition import TruncatedSVD\n",
        "svd = TruncatedSVD(n_components=30)"
      ],
      "execution_count": 107,
      "outputs": []
    },
    {
      "cell_type": "code",
      "metadata": {
        "id": "tcLuv3LY53R7"
      },
      "source": [
        "svd_data = svd.fit_transform(issue_vector)"
      ],
      "execution_count": 108,
      "outputs": []
    },
    {
      "cell_type": "code",
      "metadata": {
        "colab": {
          "base_uri": "https://localhost:8080/"
        },
        "id": "2398BiUp59Bl",
        "outputId": "d53e6aa9-50be-4da2-b3d1-8665eb3ad948"
      },
      "source": [
        "svd.explained_variance_ratio_.sum()"
      ],
      "execution_count": 109,
      "outputs": [
        {
          "output_type": "execute_result",
          "data": {
            "text/plain": [
              "0.82806276365994"
            ]
          },
          "metadata": {
            "tags": []
          },
          "execution_count": 109
        }
      ]
    },
    {
      "cell_type": "code",
      "metadata": {
        "colab": {
          "base_uri": "https://localhost:8080/"
        },
        "id": "TtbSFzeg6Btt",
        "outputId": "47d9409d-e440-460f-c485-dd9f1d5311a6"
      },
      "source": [
        "svd_data.shape"
      ],
      "execution_count": 110,
      "outputs": [
        {
          "output_type": "execute_result",
          "data": {
            "text/plain": [
              "(555957, 30)"
            ]
          },
          "metadata": {
            "tags": []
          },
          "execution_count": 110
        }
      ]
    },
    {
      "cell_type": "markdown",
      "metadata": {
        "id": "SJ22e_lHEtTQ"
      },
      "source": [
        "### Principle component analysis :"
      ]
    },
    {
      "cell_type": "code",
      "metadata": {
        "id": "ANiXKQ3q6N-G"
      },
      "source": [
        "from sklearn.decomposition import PCA"
      ],
      "execution_count": 111,
      "outputs": []
    },
    {
      "cell_type": "code",
      "metadata": {
        "id": "Op9FRk0r6S23"
      },
      "source": [
        "pca = PCA(n_components=2)\n",
        "pca_data = pca.fit_transform(svd_data)"
      ],
      "execution_count": 112,
      "outputs": []
    },
    {
      "cell_type": "code",
      "metadata": {
        "colab": {
          "base_uri": "https://localhost:8080/"
        },
        "id": "VjNfB_Nq6ZjQ",
        "outputId": "e7c796ac-1bcc-4823-a040-c48683536cc6"
      },
      "source": [
        "pca.explained_variance_ratio_.sum()"
      ],
      "execution_count": 113,
      "outputs": [
        {
          "output_type": "execute_result",
          "data": {
            "text/plain": [
              "0.3314134732206848"
            ]
          },
          "metadata": {
            "tags": []
          },
          "execution_count": 113
        }
      ]
    },
    {
      "cell_type": "code",
      "metadata": {
        "id": "RgjLz-Sf6c5T"
      },
      "source": [
        "pca_df = pd.DataFrame(pca_data)"
      ],
      "execution_count": 122,
      "outputs": []
    },
    {
      "cell_type": "code",
      "metadata": {
        "id": "na5xgSP36nPe"
      },
      "source": [
        "pca_df.columns = ['pc1', 'pc2']"
      ],
      "execution_count": 123,
      "outputs": []
    },
    {
      "cell_type": "code",
      "metadata": {
        "colab": {
          "base_uri": "https://localhost:8080/"
        },
        "id": "SWYmHEIkAiOQ",
        "outputId": "475d8d58-ac49-4614-f047-bf2979ccf8ba"
      },
      "source": [
        "pca_df.shape"
      ],
      "execution_count": 124,
      "outputs": [
        {
          "output_type": "execute_result",
          "data": {
            "text/plain": [
              "(555957, 2)"
            ]
          },
          "metadata": {
            "tags": []
          },
          "execution_count": 124
        }
      ]
    },
    {
      "cell_type": "markdown",
      "metadata": {
        "id": "YkOVuNs8Eijy"
      },
      "source": [
        "# Data Visualization :"
      ]
    },
    {
      "cell_type": "code",
      "metadata": {
        "id": "pig7-7376z8O"
      },
      "source": [
        "import seaborn as sns"
      ],
      "execution_count": 125,
      "outputs": []
    },
    {
      "cell_type": "code",
      "metadata": {
        "id": "7LqED7NK7rm4"
      },
      "source": [
        "pca_df['y_pred_classes'] = pd.Series(y_pred_classes)\n",
        "pca_df['y_true'] = pd.Series(y_true)"
      ],
      "execution_count": 126,
      "outputs": []
    },
    {
      "cell_type": "code",
      "metadata": {
        "id": "o3lsLk65Bhxc"
      },
      "source": [
        "label = y.columns"
      ],
      "execution_count": 131,
      "outputs": []
    },
    {
      "cell_type": "code",
      "metadata": {
        "colab": {
          "base_uri": "https://localhost:8080/"
        },
        "id": "tvVUmNyRCJ14",
        "outputId": "931fbcfc-dd09-4adc-d89d-4bf7c59a8bf3"
      },
      "source": [
        "label"
      ],
      "execution_count": 132,
      "outputs": [
        {
          "output_type": "execute_result",
          "data": {
            "text/plain": [
              "Index(['Bank account or service', 'Consumer Loan', 'Credit card',\n",
              "       'Credit reporting', 'Debt collection', 'Money transfers', 'Mortgage',\n",
              "       'Other financial service', 'Payday loan', 'Prepaid card',\n",
              "       'Student loan'],\n",
              "      dtype='object')"
            ]
          },
          "metadata": {
            "tags": []
          },
          "execution_count": 132
        }
      ]
    },
    {
      "cell_type": "code",
      "metadata": {
        "colab": {
          "base_uri": "https://localhost:8080/"
        },
        "id": "1XIL-I-5C0k9",
        "outputId": "cd66e076-94e1-4556-e466-765487566a5d"
      },
      "source": [
        "l = np.arange(11)\n",
        "l"
      ],
      "execution_count": 133,
      "outputs": [
        {
          "output_type": "execute_result",
          "data": {
            "text/plain": [
              "array([ 0,  1,  2,  3,  4,  5,  6,  7,  8,  9, 10])"
            ]
          },
          "metadata": {
            "tags": []
          },
          "execution_count": 133
        }
      ]
    },
    {
      "cell_type": "code",
      "metadata": {
        "id": "PbgqBIKUDZSe"
      },
      "source": [
        "dictionary = dict(zip(l,label))"
      ],
      "execution_count": 134,
      "outputs": []
    },
    {
      "cell_type": "code",
      "metadata": {
        "colab": {
          "base_uri": "https://localhost:8080/"
        },
        "id": "k3lJQxsEDgYy",
        "outputId": "dd026b3f-da99-4d98-9dbb-e0d0a477954c"
      },
      "source": [
        "dictionary"
      ],
      "execution_count": 135,
      "outputs": [
        {
          "output_type": "execute_result",
          "data": {
            "text/plain": [
              "{0: 'Bank account or service',\n",
              " 1: 'Consumer Loan',\n",
              " 2: 'Credit card',\n",
              " 3: 'Credit reporting',\n",
              " 4: 'Debt collection',\n",
              " 5: 'Money transfers',\n",
              " 6: 'Mortgage',\n",
              " 7: 'Other financial service',\n",
              " 8: 'Payday loan',\n",
              " 9: 'Prepaid card',\n",
              " 10: 'Student loan'}"
            ]
          },
          "metadata": {
            "tags": []
          },
          "execution_count": 135
        }
      ]
    },
    {
      "cell_type": "code",
      "metadata": {
        "id": "abl5rhkgDhtc"
      },
      "source": [
        "label_list = []\n",
        "for i in y_true:\n",
        "  label_list.append(dictionary[i])"
      ],
      "execution_count": 140,
      "outputs": []
    },
    {
      "cell_type": "code",
      "metadata": {
        "id": "SO7xNcdHDoRd"
      },
      "source": [
        "pca_df['label'] = pd.Series(label_list)"
      ],
      "execution_count": 141,
      "outputs": []
    },
    {
      "cell_type": "code",
      "metadata": {
        "colab": {
          "base_uri": "https://localhost:8080/",
          "height": 400
        },
        "id": "LRKBpBwlEF4T",
        "outputId": "05700c6e-9f36-4877-c207-2a773007b8af"
      },
      "source": [
        "sns.lmplot(x='pc1', y='pc2', data=pca_df, hue='label', aspect=2)"
      ],
      "execution_count": 144,
      "outputs": [
        {
          "output_type": "execute_result",
          "data": {
            "text/plain": [
              "<seaborn.axisgrid.FacetGrid at 0x7fb7884f0350>"
            ]
          },
          "metadata": {
            "tags": []
          },
          "execution_count": 144
        },
        {
          "output_type": "display_data",
          "data": {
            "image/png": "[encoded data removed]",
            "text/plain": [
              "<Figure size 876.25x360 with 1 Axes>"
            ]
          },
          "metadata": {
            "tags": [],
            "needs_background": "light"
          }
        }
      ]
    },
    {
      "cell_type": "markdown",
      "metadata": {
        "id": "IcWEWEbrI2fs"
      },
      "source": [
        "# Mode of Submission of Complaint :"
      ]
    },
    {
      "cell_type": "code",
      "metadata": {
        "id": "68SMIYqiIU2X"
      },
      "source": [
        "pca_df['submitted_via'] = data['submitted_via']"
      ],
      "execution_count": 163,
      "outputs": []
    },
    {
      "cell_type": "code",
      "metadata": {
        "colab": {
          "base_uri": "https://localhost:8080/",
          "height": 400
        },
        "id": "XkWR-gWZIaD9",
        "outputId": "20b49741-091f-4b99-ba0a-c15cab9965c6"
      },
      "source": [
        "sns.lmplot(x='pc1', y='pc2', data=pca_df, hue='submitted_via', aspect=2)"
      ],
      "execution_count": 165,
      "outputs": [
        {
          "output_type": "execute_result",
          "data": {
            "text/plain": [
              "<seaborn.axisgrid.FacetGrid at 0x7fb7881180d0>"
            ]
          },
          "metadata": {
            "tags": []
          },
          "execution_count": 165
        },
        {
          "output_type": "display_data",
          "data": {
            "image/png": "[encoded data removed]",
            "text/plain": [
              "<Figure size 810.375x360 with 1 Axes>"
            ]
          },
          "metadata": {
            "tags": [],
            "needs_background": "light"
          }
        }
      ]
    },
    {
      "cell_type": "code",
      "metadata": {
        "id": "pmDfVwGxIhxx"
      },
      "source": [
        ""
      ],
      "execution_count": null,
      "outputs": []
    }
  ]
}